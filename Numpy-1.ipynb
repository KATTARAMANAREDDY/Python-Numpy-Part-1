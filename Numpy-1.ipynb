{
 "cells": [
  {
   "cell_type": "markdown",
   "id": "5cbedbe1",
   "metadata": {},
   "source": [
    "# Numpy"
   ]
  },
  {
   "cell_type": "markdown",
   "id": "c315fdc7",
   "metadata": {},
   "source": [
    "Define numpy ?"
   ]
  },
  {
   "cell_type": "markdown",
   "id": "1f5cb5ef",
   "metadata": {},
   "source": [
    "Numpy is a Python library."
   ]
  },
  {
   "cell_type": "markdown",
   "id": "ef2132ef",
   "metadata": {},
   "source": [
    "Numpy is used for working with arrays."
   ]
  },
  {
   "cell_type": "markdown",
   "id": "dafed5c4",
   "metadata": {},
   "source": [
    "Numpy stands for Numerical Python."
   ]
  },
  {
   "cell_type": "markdown",
   "id": "a923b371",
   "metadata": {},
   "source": [
    "Numpy was created in 2005 by Travis Oliphant.It is an open source."
   ]
  },
  {
   "cell_type": "markdown",
   "id": "a1378e62",
   "metadata": {},
   "source": [
    "What is an array ? "
   ]
  },
  {
   "cell_type": "markdown",
   "id": "0fdc6d01",
   "metadata": {},
   "source": [
    "In Python they are containers which are able to store more than one item at the same time.The array is a process of memory allocation.  "
   ]
  },
  {
   "cell_type": "code",
   "execution_count": 1,
   "id": "00b99fd9",
   "metadata": {},
   "outputs": [
    {
     "name": "stdout",
     "output_type": "stream",
     "text": [
      "Requirement already satisfied: numpy in c:\\users\\katta\\onedrive\\documents\\data science\\lib\\site-packages (1.24.3)\n"
     ]
    }
   ],
   "source": [
    "# installing numpy library by using Exclamatory mark(!)\n",
    "\n",
    "!pip install numpy"
   ]
  },
  {
   "cell_type": "code",
   "execution_count": 2,
   "id": "3e09fee2",
   "metadata": {},
   "outputs": [],
   "source": [
    "# importing numpy library by using import function\n",
    "\n",
    "import numpy as np       # np is the alias of numpy"
   ]
  },
  {
   "cell_type": "code",
   "execution_count": 3,
   "id": "db95b360",
   "metadata": {},
   "outputs": [
    {
     "name": "stdout",
     "output_type": "stream",
     "text": [
      "24\n",
      "0\n"
     ]
    }
   ],
   "source": [
    "# ceating an array\n",
    "# 0-dimension array              # ndim function is used to find no.of dimensional array it is.\n",
    "\n",
    "arr = np.array(24)\n",
    "\n",
    "print(arr)\n",
    "print(arr.ndim)"
   ]
  },
  {
   "cell_type": "code",
   "execution_count": 4,
   "id": "94680cf6",
   "metadata": {},
   "outputs": [
    {
     "name": "stdout",
     "output_type": "stream",
     "text": [
      "[2. 8. 6.]\n",
      "1\n"
     ]
    }
   ],
   "source": [
    "# 5 examples of array   \n",
    "# 1-dimension array             # dtype function refers to which type of data is using.\n",
    "\n",
    "arr1 = np.array([2,8,6],dtype = float)\n",
    "\n",
    "print(arr1)\n",
    "print(arr1.ndim)"
   ]
  },
  {
   "cell_type": "code",
   "execution_count": 5,
   "id": "f3d01dea",
   "metadata": {},
   "outputs": [
    {
     "name": "stdout",
     "output_type": "stream",
     "text": [
      "[[9 6 8]\n",
      " [4 7 2]]\n",
      "2\n"
     ]
    }
   ],
   "source": [
    "# 2-dimension array\n",
    "\n",
    "arr2 = np.array([(9,6,8),(4,7,2)])\n",
    "\n",
    "print(arr2)\n",
    "print(arr2.ndim)"
   ]
  },
  {
   "cell_type": "code",
   "execution_count": 6,
   "id": "b2b0446e",
   "metadata": {},
   "outputs": [
    {
     "name": "stdout",
     "output_type": "stream",
     "text": [
      "[[98. 14. 56. 24.]\n",
      " [90. 67. 31. 85.]]\n",
      "2\n"
     ]
    }
   ],
   "source": [
    "# 2-dimension array\n",
    "\n",
    "arr3 = np.array([(98,14,56,24),(90,67,31,85)],dtype = float)\n",
    "\n",
    "print(arr3)\n",
    "print(arr3.ndim)"
   ]
  },
  {
   "cell_type": "code",
   "execution_count": 7,
   "id": "95863930",
   "metadata": {},
   "outputs": [
    {
     "name": "stdout",
     "output_type": "stream",
     "text": [
      "[[[74 87 23]\n",
      "  [45 45 12]]\n",
      "\n",
      " [[ 2  8  6]\n",
      "  [ 3  7  5]]]\n",
      "3\n"
     ]
    }
   ],
   "source": [
    "# 3-dimension array\n",
    "\n",
    "arr4 = np.array([[(74,87,23),(45,45,12)],[(2,8,6),(3,7,5)]])\n",
    "\n",
    "print(arr4)\n",
    "print(arr4.ndim)"
   ]
  },
  {
   "cell_type": "code",
   "execution_count": 8,
   "id": "f51efaef",
   "metadata": {},
   "outputs": [
    {
     "name": "stdout",
     "output_type": "stream",
     "text": [
      "[[[12. 13.]\n",
      "  [25. 26.]]\n",
      "\n",
      " [[57. 58.]\n",
      "  [78. 79.]]]\n",
      "3\n"
     ]
    }
   ],
   "source": [
    "# 3-dimension array\n",
    "\n",
    "arr5 = np.array([[(12,13),(25,26)],[(57,58),(78,79)]],dtype = float)\n",
    "\n",
    "print(arr5)\n",
    "print(arr5.ndim)"
   ]
  },
  {
   "cell_type": "code",
   "execution_count": 9,
   "id": "ba7452b2",
   "metadata": {},
   "outputs": [
    {
     "name": "stdout",
     "output_type": "stream",
     "text": [
      "[0 0 0]\n",
      "1\n"
     ]
    }
   ],
   "source": [
    "# Numpy functions\n",
    "# creating zeros matrix(1*1)\n",
    "\n",
    "mat1 = np.zeros([3],dtype = int)\n",
    "\n",
    "print(mat1)\n",
    "print(mat1.ndim)"
   ]
  },
  {
   "cell_type": "code",
   "execution_count": 10,
   "id": "30732115",
   "metadata": {},
   "outputs": [
    {
     "name": "stdout",
     "output_type": "stream",
     "text": [
      "[[0 0]\n",
      " [0 0]]\n",
      "2\n"
     ]
    }
   ],
   "source": [
    "# creating zeros matrix(2*2)\n",
    "\n",
    "mat2 = np.zeros([2,2],dtype = int)\n",
    "\n",
    "print(mat2)\n",
    "print(mat2.ndim)"
   ]
  },
  {
   "cell_type": "code",
   "execution_count": 11,
   "id": "f10e5059",
   "metadata": {},
   "outputs": [
    {
     "name": "stdout",
     "output_type": "stream",
     "text": [
      "[[[0 0 0]\n",
      "  [0 0 0]\n",
      "  [0 0 0]]\n",
      "\n",
      " [[0 0 0]\n",
      "  [0 0 0]\n",
      "  [0 0 0]]]\n",
      "3\n"
     ]
    }
   ],
   "source": [
    "# creating zeros matrix(3*3)\n",
    "\n",
    "mat3 = np.zeros([2,3,3],dtype = int)\n",
    "\n",
    "print(mat3)\n",
    "print(mat3.ndim)"
   ]
  },
  {
   "cell_type": "code",
   "execution_count": 12,
   "id": "cf4c3c69",
   "metadata": {},
   "outputs": [
    {
     "name": "stdout",
     "output_type": "stream",
     "text": [
      "[1 1 1]\n"
     ]
    }
   ],
   "source": [
    "# creating ones matrix(1*1)\n",
    "\n",
    "mat1 = np.ones([3],dtype = int)\n",
    "\n",
    "print(mat1)"
   ]
  },
  {
   "cell_type": "code",
   "execution_count": 13,
   "id": "1e65ad65",
   "metadata": {},
   "outputs": [
    {
     "name": "stdout",
     "output_type": "stream",
     "text": [
      "[[1 1]\n",
      " [1 1]]\n"
     ]
    }
   ],
   "source": [
    "# creating ones matrix(2*2)\n",
    "\n",
    "mat2 = np.ones([2,2],dtype = int)\n",
    "\n",
    "print(mat2)"
   ]
  },
  {
   "cell_type": "code",
   "execution_count": 14,
   "id": "becfcb77",
   "metadata": {},
   "outputs": [
    {
     "name": "stdout",
     "output_type": "stream",
     "text": [
      "[[[1 1 1]\n",
      "  [1 1 1]\n",
      "  [1 1 1]]\n",
      "\n",
      " [[1 1 1]\n",
      "  [1 1 1]\n",
      "  [1 1 1]]]\n"
     ]
    }
   ],
   "source": [
    "# creating ones matrix(3*3)\n",
    "\n",
    "mat3 = np.ones([2,3,3],dtype = int)\n",
    "\n",
    "print(mat3)"
   ]
  },
  {
   "cell_type": "code",
   "execution_count": 16,
   "id": "4fb60398",
   "metadata": {},
   "outputs": [
    {
     "name": "stdout",
     "output_type": "stream",
     "text": [
      "[[1 0]\n",
      " [0 1]]\n"
     ]
    }
   ],
   "source": [
    "# creating identity matrix      # diagonals are 1 and others are 0.\n",
    "\n",
    "arr = np.eye(2,2,dtype = int)\n",
    "\n",
    "print(arr)"
   ]
  },
  {
   "cell_type": "code",
   "execution_count": 18,
   "id": "426918b6",
   "metadata": {},
   "outputs": [
    {
     "name": "stdout",
     "output_type": "stream",
     "text": [
      "[[1 0 0 0 0 0]\n",
      " [0 1 0 0 0 0]\n",
      " [0 0 1 0 0 0]\n",
      " [0 0 0 1 0 0]\n",
      " [0 0 0 0 1 0]\n",
      " [0 0 0 0 0 1]]\n"
     ]
    }
   ],
   "source": [
    "# creating identity matrix(6*6)\n",
    "\n",
    "arr1 = np.eye(6,6,dtype = int)\n",
    "\n",
    "print(arr1)"
   ]
  },
  {
   "cell_type": "code",
   "execution_count": 23,
   "id": "d1551443",
   "metadata": {},
   "outputs": [
    {
     "name": "stdout",
     "output_type": "stream",
     "text": [
      "[[4 4]\n",
      " [4 4]]\n"
     ]
    }
   ],
   "source": [
    "# creating a matrix with filling of user number\n",
    "\n",
    "matr1 = np.full([2,2],4)\n",
    "\n",
    "print(matr1)"
   ]
  },
  {
   "cell_type": "code",
   "execution_count": 24,
   "id": "1f0c26d3",
   "metadata": {},
   "outputs": [
    {
     "name": "stdout",
     "output_type": "stream",
     "text": [
      "[[4 7]\n",
      " [4 7]]\n"
     ]
    }
   ],
   "source": [
    "matr2 = np.full([2,2],[4,7])\n",
    "\n",
    "print(matr2)"
   ]
  },
  {
   "cell_type": "code",
   "execution_count": 27,
   "id": "80e12a92",
   "metadata": {},
   "outputs": [
    {
     "name": "stdout",
     "output_type": "stream",
     "text": [
      "[[2 8 6 9]\n",
      " [2 8 6 9]\n",
      " [2 8 6 9]\n",
      " [2 8 6 9]]\n"
     ]
    }
   ],
   "source": [
    "matr3 = np.full([4,4],[2,8,6,9])\n",
    "\n",
    "print(matr3)"
   ]
  },
  {
   "cell_type": "code",
   "execution_count": 29,
   "id": "fd04a9a1",
   "metadata": {},
   "outputs": [
    {
     "name": "stdout",
     "output_type": "stream",
     "text": [
      "[ 2  5  8 11 14 17]\n"
     ]
    }
   ],
   "source": [
    "# creating a range of an array\n",
    "\n",
    "arr = np.arange(2,20,3)              # (start,stop,step)\n",
    "\n",
    "print(arr)"
   ]
  },
  {
   "cell_type": "code",
   "execution_count": 31,
   "id": "8942da46",
   "metadata": {},
   "outputs": [
    {
     "name": "stdout",
     "output_type": "stream",
     "text": [
      "[28.         32.55555556 37.11111111 41.66666667 46.22222222 50.77777778\n",
      " 55.33333333 59.88888889 64.44444444 69.        ]\n"
     ]
    }
   ],
   "source": [
    "# creating evenly spaced values \n",
    "\n",
    "arr1 = np.linspace(28,69,10)         # (start,stop,no.of values)\n",
    "\n",
    "print(arr1)"
   ]
  },
  {
   "cell_type": "code",
   "execution_count": null,
   "id": "87dec0b0",
   "metadata": {},
   "outputs": [],
   "source": []
  }
 ],
 "metadata": {
  "kernelspec": {
   "display_name": "Python 3 (ipykernel)",
   "language": "python",
   "name": "python3"
  },
  "language_info": {
   "codemirror_mode": {
    "name": "ipython",
    "version": 3
   },
   "file_extension": ".py",
   "mimetype": "text/x-python",
   "name": "python",
   "nbconvert_exporter": "python",
   "pygments_lexer": "ipython3",
   "version": "3.11.5"
  }
 },
 "nbformat": 4,
 "nbformat_minor": 5
}
