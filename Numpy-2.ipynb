{
 "cells": [
  {
   "cell_type": "code",
   "execution_count": 2,
   "id": "b829e2c0",
   "metadata": {},
   "outputs": [],
   "source": [
    "import numpy as np"
   ]
  },
  {
   "cell_type": "code",
   "execution_count": 12,
   "id": "384ab499",
   "metadata": {},
   "outputs": [
    {
     "name": "stdout",
     "output_type": "stream",
     "text": [
      "[[0.27754198 0.05581486 0.11974452]\n",
      " [0.25672759 0.57531027 0.14458381]\n",
      " [0.75553784 0.1344641  0.01694832]\n",
      " [0.57924624 0.72105848 0.647095  ]]\n"
     ]
    }
   ],
   "source": [
    "# creating an array with random numbers\n",
    "\n",
    "arr = np.random.random([4,3])\n",
    "\n",
    "print(arr)"
   ]
  },
  {
   "cell_type": "code",
   "execution_count": 20,
   "id": "171cbe03",
   "metadata": {},
   "outputs": [
    {
     "name": "stdout",
     "output_type": "stream",
     "text": [
      "(2, 3)\n"
     ]
    }
   ],
   "source": [
    "# finding shape of an array(rows,columns)\n",
    "\n",
    "arr1 = np.array([(2,6,9),(4,7,1)])\n",
    "\n",
    "print(arr1.shape)"
   ]
  },
  {
   "cell_type": "code",
   "execution_count": 23,
   "id": "d8f69ad1",
   "metadata": {},
   "outputs": [
    {
     "name": "stdout",
     "output_type": "stream",
     "text": [
      "(5, 5)\n"
     ]
    }
   ],
   "source": [
    "# creating 5*5 array \n",
    "\n",
    "arr2 = np.array([(12,13,14,15,16),(22,23,24,25,26),(32,33,34,35,36),(42,43,44,45,46),(52,53,54,55,56)])\n",
    "\n",
    "# finding shape\n",
    "print(arr2.shape)"
   ]
  },
  {
   "cell_type": "code",
   "execution_count": 24,
   "id": "b4113b67",
   "metadata": {},
   "outputs": [
    {
     "name": "stdout",
     "output_type": "stream",
     "text": [
      "25\n"
     ]
    }
   ],
   "source": [
    "# finding no.of elements in an array\n",
    "\n",
    "arr2 = np.array([(12,13,14,15,16),(22,23,24,25,26),(32,33,34,35,36),(42,43,44,45,46),(52,53,54,55,56)])\n",
    "\n",
    "print(arr2.size)"
   ]
  },
  {
   "cell_type": "code",
   "execution_count": 30,
   "id": "59b7fac0",
   "metadata": {},
   "outputs": [
    {
     "data": {
      "text/plain": [
       "5"
      ]
     },
     "execution_count": 30,
     "metadata": {},
     "output_type": "execute_result"
    }
   ],
   "source": [
    "# finding no.of rows by using len.\n",
    "\n",
    "arr2 = np.array([(12,13,14,15,16),(22,23,24,25,26),(32,33,34,35,36),(42,43,44,45,46),(52,53,54,55,56)])\n",
    "\n",
    "len(arr2)"
   ]
  },
  {
   "cell_type": "code",
   "execution_count": 36,
   "id": "66862edd",
   "metadata": {},
   "outputs": [
    {
     "data": {
      "text/plain": [
       "15"
      ]
     },
     "execution_count": 36,
     "metadata": {},
     "output_type": "execute_result"
    }
   ],
   "source": [
    "# accessing elements from an array by using index number.\n",
    "\n",
    "arr2 = np.array([(12,13,14,15,16),(22,23,24,25,26),(32,33,34,35,36),(42,43,44,45,46),(52,53,54,55,56)])\n",
    "\n",
    "arr2[0,3]"
   ]
  },
  {
   "cell_type": "code",
   "execution_count": 37,
   "id": "a1172bb1",
   "metadata": {},
   "outputs": [
    {
     "data": {
      "text/plain": [
       "43"
      ]
     },
     "execution_count": 37,
     "metadata": {},
     "output_type": "execute_result"
    }
   ],
   "source": [
    "arr2[3,1]"
   ]
  },
  {
   "cell_type": "code",
   "execution_count": 38,
   "id": "2ef59c06",
   "metadata": {},
   "outputs": [
    {
     "data": {
      "text/plain": [
       "56"
      ]
     },
     "execution_count": 38,
     "metadata": {},
     "output_type": "execute_result"
    }
   ],
   "source": [
    "arr2[4,4]"
   ]
  },
  {
   "cell_type": "code",
   "execution_count": 43,
   "id": "14665263",
   "metadata": {},
   "outputs": [
    {
     "data": {
      "text/plain": [
       "103"
      ]
     },
     "execution_count": 43,
     "metadata": {},
     "output_type": "execute_result"
    }
   ],
   "source": [
    "# accessing elements from 3-D array\n",
    "\n",
    "arr3 = np.array([[[101,102,103,104],[105,106,107,108]],\n",
    "                 [[111,112,113,114],[115,116,117,118]],\n",
    "                 [[121,122,123,124],[125,126,127,128]],\n",
    "                 [[131,132,133,134],[135,136,137,138]]])\n",
    "\n",
    "arr3[0,0,2]"
   ]
  },
  {
   "cell_type": "code",
   "execution_count": 44,
   "id": "a604d3df",
   "metadata": {},
   "outputs": [
    {
     "data": {
      "text/plain": [
       "114"
      ]
     },
     "execution_count": 44,
     "metadata": {},
     "output_type": "execute_result"
    }
   ],
   "source": [
    "# accessing elements from 3-D array\n",
    "\n",
    "arr3 = np.array([[[101,102,103,104],[105,106,107,108]],\n",
    "                 [[111,112,113,114],[115,116,117,118]],\n",
    "                 [[121,122,123,124],[125,126,127,128]],\n",
    "                 [[131,132,133,134],[135,136,137,138]]])\n",
    "\n",
    "arr3[1,0,3]"
   ]
  },
  {
   "cell_type": "code",
   "execution_count": 47,
   "id": "af25ae28",
   "metadata": {},
   "outputs": [
    {
     "data": {
      "text/plain": [
       "125"
      ]
     },
     "execution_count": 47,
     "metadata": {},
     "output_type": "execute_result"
    }
   ],
   "source": [
    "# accessing elements from 3-D array\n",
    "\n",
    "arr3 = np.array([[[101,102,103,104],[105,106,107,108]],\n",
    "                 [[111,112,113,114],[115,116,117,118]],\n",
    "                 [[121,122,123,124],[125,126,127,128]],\n",
    "                 [[131,132,133,134],[135,136,137,138]]])\n",
    "\n",
    "arr3[2,1,0]"
   ]
  },
  {
   "cell_type": "code",
   "execution_count": 48,
   "id": "ac8ad609",
   "metadata": {},
   "outputs": [
    {
     "data": {
      "text/plain": [
       "138"
      ]
     },
     "execution_count": 48,
     "metadata": {},
     "output_type": "execute_result"
    }
   ],
   "source": [
    "# accessing elements from 3-D array\n",
    "\n",
    "arr3 = np.array([[[101,102,103,104],[105,106,107,108]],\n",
    "                 [[111,112,113,114],[115,116,117,118]],\n",
    "                 [[121,122,123,124],[125,126,127,128]],\n",
    "                 [[131,132,133,134],[135,136,137,138]]])\n",
    "\n",
    "arr3[3,1,3]"
   ]
  },
  {
   "cell_type": "code",
   "execution_count": 53,
   "id": "9a0a3285",
   "metadata": {},
   "outputs": [
    {
     "data": {
      "text/plain": [
       "array([[21, 22, 23, 24],\n",
       "       [25, 26, 27, 28],\n",
       "       [29, 30, 31, 32],\n",
       "       [33, 34, 35, 36]])"
      ]
     },
     "execution_count": 53,
     "metadata": {},
     "output_type": "execute_result"
    }
   ],
   "source": [
    "# creating 1-D array and using function reshape().\n",
    "\n",
    "arr4 = np.array([21,22,23,24,25,26,27,28,29,30,31,32,33,34,35,36])\n",
    "\n",
    "arr4.reshape(4,4)"
   ]
  },
  {
   "cell_type": "code",
   "execution_count": 65,
   "id": "a5c09b59",
   "metadata": {},
   "outputs": [
    {
     "data": {
      "text/plain": [
       "array([[100, 105, 110, 115, 125, 130, 135, 140, 145, 150],\n",
       "       [155, 160, 165, 170, 175, 180, 185, 190, 195, 200],\n",
       "       [205, 210, 215, 220, 225, 230, 235, 240, 245, 250],\n",
       "       [100, 105, 110, 115, 125, 130, 135, 140, 145, 150],\n",
       "       [155, 160, 165, 170, 175, 180, 185, 190, 195, 200],\n",
       "       [205, 210, 215, 220, 225, 230, 235, 240, 245, 250],\n",
       "       [100, 105, 110, 115, 125, 130, 135, 140, 145, 150],\n",
       "       [155, 160, 165, 170, 175, 180, 185, 190, 195, 200],\n",
       "       [205, 210, 215, 220, 225, 230, 235, 240, 245, 250],\n",
       "       [100, 105, 110, 115, 125, 130, 135, 140, 145, 150],\n",
       "       [155, 160, 165, 170, 175, 180, 185, 190, 195, 200],\n",
       "       [205, 210, 215, 220, 225, 230, 235, 240, 245, 250]])"
      ]
     },
     "execution_count": 65,
     "metadata": {},
     "output_type": "execute_result"
    }
   ],
   "source": [
    "# creating 1-D array with 120 numbers and reshaping into 2-D array\n",
    "\n",
    "arr4 = np.array([100,105,110,115,125,130,135,140,145,150,155,160,165,170,175,180,185,190,195,200,205,210,215,220,225,230,235,240,245,250,100,105,110,115,125,130,135,140,145,150,155,160,165,170,175,180,185,190,195,200,205,210,215,220,225,230,235,240,245,250,100,105,110,115,125,130,135,140,145,150,155,160,165,170,175,180,185,190,195,200,205,210,215,220,225,230,235,240,245,250,100,105,110,115,125,130,135,140,145,150,155,160,165,170,175,180,185,190,195,200,205,210,215,220,225,230,235,240,245,250])\n",
    "\n",
    "arr4.reshape(12,10)"
   ]
  },
  {
   "cell_type": "code",
   "execution_count": 66,
   "id": "e1a4bb82",
   "metadata": {},
   "outputs": [
    {
     "data": {
      "text/plain": [
       "array([[[100, 105, 110, 115, 125],\n",
       "        [130, 135, 140, 145, 150],\n",
       "        [155, 160, 165, 170, 175],\n",
       "        [180, 185, 190, 195, 200]],\n",
       "\n",
       "       [[205, 210, 215, 220, 225],\n",
       "        [230, 235, 240, 245, 250],\n",
       "        [100, 105, 110, 115, 125],\n",
       "        [130, 135, 140, 145, 150]],\n",
       "\n",
       "       [[155, 160, 165, 170, 175],\n",
       "        [180, 185, 190, 195, 200],\n",
       "        [205, 210, 215, 220, 225],\n",
       "        [230, 235, 240, 245, 250]],\n",
       "\n",
       "       [[100, 105, 110, 115, 125],\n",
       "        [130, 135, 140, 145, 150],\n",
       "        [155, 160, 165, 170, 175],\n",
       "        [180, 185, 190, 195, 200]],\n",
       "\n",
       "       [[205, 210, 215, 220, 225],\n",
       "        [230, 235, 240, 245, 250],\n",
       "        [100, 105, 110, 115, 125],\n",
       "        [130, 135, 140, 145, 150]],\n",
       "\n",
       "       [[155, 160, 165, 170, 175],\n",
       "        [180, 185, 190, 195, 200],\n",
       "        [205, 210, 215, 220, 225],\n",
       "        [230, 235, 240, 245, 250]]])"
      ]
     },
     "execution_count": 66,
     "metadata": {},
     "output_type": "execute_result"
    }
   ],
   "source": [
    "# reshaping into 3-D array\n",
    "\n",
    "arr4.reshape(6,4,5)"
   ]
  },
  {
   "cell_type": "code",
   "execution_count": 68,
   "id": "8ceff52c",
   "metadata": {},
   "outputs": [
    {
     "name": "stdout",
     "output_type": "stream",
     "text": [
      "[  11   22   33   44 1000   66   77   88   99]\n",
      "[11 22 33 44 55 66 77 88 99]\n"
     ]
    }
   ],
   "source": [
    "# creating an array and copying that array\n",
    "\n",
    "arr = np.array([11,22,33,44,55,66,77,88,99])\n",
    "z = arr.copy()\n",
    "arr[4] = 1000\n",
    "\n",
    "print(arr)\n",
    "print(z)"
   ]
  },
  {
   "cell_type": "code",
   "execution_count": 69,
   "id": "511b45ac",
   "metadata": {},
   "outputs": [
    {
     "name": "stdout",
     "output_type": "stream",
     "text": [
      "[ 10  20  30  40  50  60  70 999  90]\n",
      "[ 10  20  30  40  50  60  70 999  90]\n"
     ]
    }
   ],
   "source": [
    "# creating an array and viewing that array\n",
    "\n",
    "arr = np.array([10,20,30,40,50,60,70,80,90])\n",
    "c = arr.view()\n",
    "arr[7] = 999\n",
    "\n",
    "print(arr)\n",
    "print(c)"
   ]
  },
  {
   "cell_type": "markdown",
   "id": "19800dff",
   "metadata": {},
   "source": [
    "# Data types"
   ]
  },
  {
   "cell_type": "markdown",
   "id": "87f380fd",
   "metadata": {},
   "source": [
    "Numpy has some extra data types,and refer to data types with one character,like i for integers, u for unsigned integers etc."
   ]
  },
  {
   "cell_type": "code",
   "execution_count": 1,
   "id": "aa8c4416",
   "metadata": {},
   "outputs": [],
   "source": [
    "# Below list of all data types in Numpy and characters used to represent them.\n",
    "\n",
    "# i = integer\n",
    "# b = boolean\n",
    "# u = unsigned integer\n",
    "# c = complex float\n",
    "# f = float\n",
    "# m = timedelta\n",
    "# M = datetime\n",
    "# O = object\n",
    "# S = string\n",
    "# U = unicode string"
   ]
  },
  {
   "cell_type": "code",
   "execution_count": 3,
   "id": "7e5389ac",
   "metadata": {},
   "outputs": [
    {
     "name": "stdout",
     "output_type": "stream",
     "text": [
      "[b'2' b'5' b'7' b'8' b'9' b'4' b'1' b'6']\n",
      "|S1\n"
     ]
    }
   ],
   "source": [
    "# creating an array with data type string\n",
    "\n",
    "arr = np.array([2,5,7,8,9,4,1,6],dtype = 'S')\n",
    "\n",
    "print(arr)\n",
    "print(arr.dtype)"
   ]
  },
  {
   "cell_type": "code",
   "execution_count": 8,
   "id": "6c9ed41d",
   "metadata": {},
   "outputs": [
    {
     "name": "stdout",
     "output_type": "stream",
     "text": [
      "[1 2 7 8 9 4 2]\n",
      "int32\n"
     ]
    }
   ],
   "source": [
    "# creating an array with data type int\n",
    "\n",
    "arr1 = np.array([1.2,2.6,7.3,8.4,9.4,4.7,2.8],dtype = 'i')\n",
    "\n",
    "print(arr1)\n",
    "print(arr1.dtype)"
   ]
  },
  {
   "cell_type": "code",
   "execution_count": 9,
   "id": "6edfcd05",
   "metadata": {},
   "outputs": [
    {
     "name": "stdout",
     "output_type": "stream",
     "text": [
      "[2. 5. 7. 8. 9. 4. 1. 6.]\n",
      "float32\n"
     ]
    }
   ],
   "source": [
    "# creating an array with data type float\n",
    "\n",
    "arr2 = np.array([2,5,7,8,9,4,1,6],dtype = 'f')\n",
    "\n",
    "print(arr2)\n",
    "print(arr2.dtype)"
   ]
  },
  {
   "cell_type": "code",
   "execution_count": 10,
   "id": "27dd82c1",
   "metadata": {},
   "outputs": [
    {
     "data": {
      "text/plain": [
       "array([1, 4, 3, 8, 9, 2, 8], dtype=int32)"
      ]
     },
     "execution_count": 10,
     "metadata": {},
     "output_type": "execute_result"
    }
   ],
   "source": [
    "# converting data type on existing arrays using astype() method.\n",
    "# creating an array and converting into int data type.\n",
    "arr3 = np.array([1.3,4.6,3.7,8.5,9.7,2.8,8.5])\n",
    "\n",
    "arr3.astype('i')"
   ]
  },
  {
   "cell_type": "code",
   "execution_count": 11,
   "id": "66064179",
   "metadata": {},
   "outputs": [
    {
     "data": {
      "text/plain": [
       "array([ True,  True,  True,  True, False,  True, False,  True,  True,\n",
       "        True,  True])"
      ]
     },
     "execution_count": 11,
     "metadata": {},
     "output_type": "execute_result"
    }
   ],
   "source": [
    "# creating an array and converting boolean data type.\n",
    "\n",
    "arr4 = np.array([1,5,8,2,0,3,0,4,-3,-5,5j])\n",
    "\n",
    "arr4.astype(bool)"
   ]
  },
  {
   "cell_type": "code",
   "execution_count": null,
   "id": "56ef73cc",
   "metadata": {},
   "outputs": [],
   "source": []
  }
 ],
 "metadata": {
  "kernelspec": {
   "display_name": "Python 3 (ipykernel)",
   "language": "python",
   "name": "python3"
  },
  "language_info": {
   "codemirror_mode": {
    "name": "ipython",
    "version": 3
   },
   "file_extension": ".py",
   "mimetype": "text/x-python",
   "name": "python",
   "nbconvert_exporter": "python",
   "pygments_lexer": "ipython3",
   "version": "3.11.5"
  }
 },
 "nbformat": 4,
 "nbformat_minor": 5
}
