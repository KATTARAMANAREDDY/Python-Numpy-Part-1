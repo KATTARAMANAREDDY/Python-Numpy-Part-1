{
 "cells": [
  {
   "cell_type": "code",
   "execution_count": 4,
   "id": "283eb3f1",
   "metadata": {},
   "outputs": [],
   "source": [
    "import numpy as np"
   ]
  },
  {
   "cell_type": "code",
   "execution_count": 47,
   "id": "9096506a",
   "metadata": {},
   "outputs": [
    {
     "name": "stdout",
     "output_type": "stream",
     "text": [
      "[0 1 2 3 4 6 8 9]\n"
     ]
    }
   ],
   "source": [
    "# creating an array and sorting elements\n",
    "\n",
    "arr = np.array([2,8,6,9,1,0,4,3])\n",
    "\n",
    "print(np.sort(arr))"
   ]
  },
  {
   "cell_type": "markdown",
   "id": "b4b9183c",
   "metadata": {},
   "source": [
    "# Math operations"
   ]
  },
  {
   "cell_type": "code",
   "execution_count": 48,
   "id": "42c643fc",
   "metadata": {},
   "outputs": [],
   "source": [
    "# creating two 1-D arrays \n",
    "\n",
    "arr1 = np.array([13,14,15,16,17,18,19,20,21,22])\n",
    "\n",
    "arr2 = np.array([23,24,25,26,27,28,29,30,31,32])"
   ]
  },
  {
   "cell_type": "code",
   "execution_count": 49,
   "id": "a7f38c5d",
   "metadata": {},
   "outputs": [
    {
     "name": "stdout",
     "output_type": "stream",
     "text": [
      "[36 38 40 42 44 46 48 50 52 54]\n"
     ]
    }
   ],
   "source": [
    "# addition operation\n",
    "print(arr1 + arr2)"
   ]
  },
  {
   "cell_type": "code",
   "execution_count": 50,
   "id": "b1f04c07",
   "metadata": {},
   "outputs": [
    {
     "name": "stdout",
     "output_type": "stream",
     "text": [
      "[-10 -10 -10 -10 -10 -10 -10 -10 -10 -10]\n"
     ]
    }
   ],
   "source": [
    "# subtraction operation\n",
    "print(arr1 - arr2)"
   ]
  },
  {
   "cell_type": "code",
   "execution_count": 51,
   "id": "0726a06d",
   "metadata": {},
   "outputs": [
    {
     "name": "stdout",
     "output_type": "stream",
     "text": [
      "[299 336 375 416 459 504 551 600 651 704]\n"
     ]
    }
   ],
   "source": [
    "# multiply operation\n",
    "print(arr1 * arr2)"
   ]
  },
  {
   "cell_type": "code",
   "execution_count": 52,
   "id": "95d64e80",
   "metadata": {},
   "outputs": [
    {
     "name": "stdout",
     "output_type": "stream",
     "text": [
      "[0.56521739 0.58333333 0.6        0.61538462 0.62962963 0.64285714\n",
      " 0.65517241 0.66666667 0.67741935 0.6875    ]\n"
     ]
    }
   ],
   "source": [
    "# divide operation\n",
    "print(arr1 / arr2)"
   ]
  },
  {
   "cell_type": "code",
   "execution_count": 53,
   "id": "b4c36b7b",
   "metadata": {},
   "outputs": [],
   "source": [
    "# creating two 2-D arrays\n",
    "\n",
    "arr1 = np.array([[2,8,6],[7,9,3]])\n",
    "\n",
    "arr2 = np.array([[7,9,3],[2,8,6]])"
   ]
  },
  {
   "cell_type": "code",
   "execution_count": 54,
   "id": "d211d64d",
   "metadata": {},
   "outputs": [
    {
     "name": "stdout",
     "output_type": "stream",
     "text": [
      "[[ 9 17  9]\n",
      " [ 9 17  9]]\n"
     ]
    }
   ],
   "source": [
    "# add operation\n",
    "print(arr1 + arr2)"
   ]
  },
  {
   "cell_type": "code",
   "execution_count": 55,
   "id": "8da2cb99",
   "metadata": {},
   "outputs": [
    {
     "name": "stdout",
     "output_type": "stream",
     "text": [
      "[[-5 -1  3]\n",
      " [ 5  1 -3]]\n"
     ]
    }
   ],
   "source": [
    "# sub operation\n",
    "print(arr1 - arr2)"
   ]
  },
  {
   "cell_type": "code",
   "execution_count": 56,
   "id": "19c4b6a7",
   "metadata": {},
   "outputs": [
    {
     "name": "stdout",
     "output_type": "stream",
     "text": [
      "[[14 72 18]\n",
      " [14 72 18]]\n"
     ]
    }
   ],
   "source": [
    "# multi operation\n",
    "print(arr1 * arr2)"
   ]
  },
  {
   "cell_type": "code",
   "execution_count": 57,
   "id": "83c2090c",
   "metadata": {},
   "outputs": [
    {
     "name": "stdout",
     "output_type": "stream",
     "text": [
      "[[0.28571429 0.88888889 2.        ]\n",
      " [3.5        1.125      0.5       ]]\n"
     ]
    }
   ],
   "source": [
    "# div operation\n",
    "print(arr1 / arr2)"
   ]
  },
  {
   "cell_type": "code",
   "execution_count": 58,
   "id": "75aca5fe",
   "metadata": {},
   "outputs": [
    {
     "name": "stdout",
     "output_type": "stream",
     "text": [
      "5.0\n",
      "5.291502622129181\n",
      "5.5677643628300215\n",
      "6.0\n",
      "6.324555320336759\n",
      "6.557438524302\n",
      "6.708203932499369\n",
      "7.0\n"
     ]
    }
   ],
   "source": [
    "# creating an arry and finding sqrt by using for loop\n",
    "\n",
    "x = np.array([25,28,31,36,40,43,45,49,])\n",
    "\n",
    "for i in x:\n",
    "    print(np.sqrt(i))"
   ]
  },
  {
   "cell_type": "markdown",
   "id": "6ef071b6",
   "metadata": {},
   "source": [
    "# Slicing arrays"
   ]
  },
  {
   "cell_type": "code",
   "execution_count": 86,
   "id": "f5534d2b",
   "metadata": {},
   "outputs": [
    {
     "name": "stdout",
     "output_type": "stream",
     "text": [
      "[30 24 50 38 73  3 37 67 35  9 21 48 76 23 13]\n"
     ]
    }
   ],
   "source": [
    "# creating 1-D arry and applying slicing method\n",
    "\n",
    "arr = np.array([20,30,24,50,38,73,3,37,67,35,9,21,48,76,23,13])\n",
    "\n",
    "# Positive slicing\n",
    "# only start\n",
    "print(arr[1:])"
   ]
  },
  {
   "cell_type": "code",
   "execution_count": 87,
   "id": "201bab05",
   "metadata": {},
   "outputs": [
    {
     "name": "stdout",
     "output_type": "stream",
     "text": [
      "[24 50 38 73  3 37 67]\n"
     ]
    }
   ],
   "source": [
    "arr = np.array([20,30,24,50,38,73,3,37,67,35,9,21,48,76,23,13])\n",
    "\n",
    "# start and stop\n",
    "print(arr[2:9])"
   ]
  },
  {
   "cell_type": "code",
   "execution_count": 88,
   "id": "1cd84686",
   "metadata": {},
   "outputs": [
    {
     "name": "stdout",
     "output_type": "stream",
     "text": [
      "[50 73 37 35]\n"
     ]
    }
   ],
   "source": [
    "arr = np.array([20,30,24,50,38,73,3,37,67,35,9,21,48,76,23,13])\n",
    "\n",
    "# start,stop and step\n",
    "print(arr[3:10:2])"
   ]
  },
  {
   "cell_type": "code",
   "execution_count": 89,
   "id": "d13556db",
   "metadata": {},
   "outputs": [
    {
     "name": "stdout",
     "output_type": "stream",
     "text": [
      "[20 30 24 50 38 73  3 37 67 35  9 21]\n"
     ]
    }
   ],
   "source": [
    "arr = np.array([20,30,24,50,38,73,3,37,67,35,9,21,48,76,23,13])\n",
    "\n",
    "# only stop\n",
    "print(arr[:12])"
   ]
  },
  {
   "cell_type": "code",
   "execution_count": 90,
   "id": "17de468b",
   "metadata": {},
   "outputs": [
    {
     "name": "stdout",
     "output_type": "stream",
     "text": [
      "[20 50  3 35 48 13]\n"
     ]
    }
   ],
   "source": [
    "arr = np.array([20,30,24,50,38,73,3,37,67,35,9,21,48,76,23,13])\n",
    "\n",
    "# only step\n",
    "print(arr[::3])"
   ]
  },
  {
   "cell_type": "code",
   "execution_count": 91,
   "id": "605911c8",
   "metadata": {},
   "outputs": [
    {
     "name": "stdout",
     "output_type": "stream",
     "text": [
      "[20 24 38  3 67  9]\n"
     ]
    }
   ],
   "source": [
    "arr = np.array([20,30,24,50,38,73,3,37,67,35,9,21,48,76,23,13])\n",
    "\n",
    "# stop and step\n",
    "print(arr[:12:2])"
   ]
  },
  {
   "cell_type": "code",
   "execution_count": 92,
   "id": "a8155d90",
   "metadata": {},
   "outputs": [
    {
     "name": "stdout",
     "output_type": "stream",
     "text": [
      "[ 3 37 67 35  9 21 48]\n"
     ]
    }
   ],
   "source": [
    "# negative slicing\n",
    "\n",
    "arr = np.array([20,30,24,50,38,73,3,37,67,35,9,21,48,76,23,13])\n",
    "\n",
    "print(arr[-10:-3])"
   ]
  },
  {
   "cell_type": "code",
   "execution_count": 93,
   "id": "12bce97d",
   "metadata": {},
   "outputs": [
    {
     "name": "stdout",
     "output_type": "stream",
     "text": [
      "[38  3 67  9 48]\n"
     ]
    }
   ],
   "source": [
    "arr = np.array([20,30,24,50,38,73,3,37,67,35,9,21,48,76,23,13])\n",
    "\n",
    "print(arr[-12:-2:2])"
   ]
  },
  {
   "cell_type": "code",
   "execution_count": 98,
   "id": "92275e29",
   "metadata": {},
   "outputs": [
    {
     "name": "stdout",
     "output_type": "stream",
     "text": [
      "[ 90 100 150]\n"
     ]
    }
   ],
   "source": [
    "# slicing for 2-D arrays\n",
    "\n",
    "arr1 = np.array([[10,20,30,40,50,60],[70,80,90,100,150,200]])\n",
    "\n",
    "print(arr1[1,2:5])"
   ]
  },
  {
   "cell_type": "code",
   "execution_count": 100,
   "id": "ff740cfd",
   "metadata": {},
   "outputs": [
    {
     "name": "stdout",
     "output_type": "stream",
     "text": [
      "[20 30 40 50]\n"
     ]
    }
   ],
   "source": [
    "arr1 = np.array([[10,20,30,40,50,60],[70,80,90,100,150,200]])\n",
    "\n",
    "print(arr1[0,1:5])"
   ]
  },
  {
   "cell_type": "code",
   "execution_count": 105,
   "id": "c1f13180",
   "metadata": {},
   "outputs": [
    {
     "name": "stdout",
     "output_type": "stream",
     "text": [
      "[30 90]\n"
     ]
    }
   ],
   "source": [
    "arr1 = np.array([[10,20,30,40,50,60],[70,80,90,100,150,200]])\n",
    "\n",
    "print(arr1[0:2,2])"
   ]
  },
  {
   "cell_type": "code",
   "execution_count": 106,
   "id": "0d776a16",
   "metadata": {},
   "outputs": [
    {
     "name": "stdout",
     "output_type": "stream",
     "text": [
      "[ 60 200]\n"
     ]
    }
   ],
   "source": [
    "arr1 = np.array([[10,20,30,40,50,60],[70,80,90,100,150,200]])\n",
    "\n",
    "print(arr1[0:2,5])"
   ]
  },
  {
   "cell_type": "code",
   "execution_count": 107,
   "id": "9e243648",
   "metadata": {},
   "outputs": [
    {
     "name": "stdout",
     "output_type": "stream",
     "text": [
      "[[ 20  30  40  50]\n",
      " [ 80  90 100 150]]\n"
     ]
    }
   ],
   "source": [
    "arr1 = np.array([[10,20,30,40,50,60],[70,80,90,100,150,200]])\n",
    "\n",
    "print(arr1[0:2,1:5])"
   ]
  },
  {
   "cell_type": "code",
   "execution_count": null,
   "id": "f837d0d6",
   "metadata": {},
   "outputs": [],
   "source": []
  }
 ],
 "metadata": {
  "kernelspec": {
   "display_name": "Python 3 (ipykernel)",
   "language": "python",
   "name": "python3"
  },
  "language_info": {
   "codemirror_mode": {
    "name": "ipython",
    "version": 3
   },
   "file_extension": ".py",
   "mimetype": "text/x-python",
   "name": "python",
   "nbconvert_exporter": "python",
   "pygments_lexer": "ipython3",
   "version": "3.11.5"
  }
 },
 "nbformat": 4,
 "nbformat_minor": 5
}
